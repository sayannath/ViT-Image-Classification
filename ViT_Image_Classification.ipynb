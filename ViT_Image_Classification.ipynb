{
  "nbformat": 4,
  "nbformat_minor": 0,
  "metadata": {
    "colab": {
      "name": "ViT_Image_Classification.ipynb",
      "provenance": [],
      "collapsed_sections": []
    },
    "kernelspec": {
      "name": "python3",
      "display_name": "Python 3"
    },
    "language_info": {
      "name": "python"
    },
    "accelerator": "GPU"
  },
  "cells": [
    {
      "cell_type": "markdown",
      "metadata": {
        "id": "8nm6pJgHzhLv"
      },
      "source": [
        "# Vision Transformer with Keras\n",
        "\n",
        "* Implementing the Vision Transformer (ViT) model for image classification.\n",
        "\n",
        "<a href=\"https://colab.research.google.com/drive/1jBP7fSwJt4Fd9rwAu4-5Xpzox5h9-wF0?usp=sharing\" target=\"_parent\"><img src=\"https://colab.research.google.com/assets/colab-badge.svg\" alt=\"Open In Colab\"/></a>\n",
        "\n",
        "Google AI Blog - https://ai.googleblog.com/2020/12/transformers-for-image-recognition-at.html\n",
        "\n",
        "Research Paper - https://arxiv.org/abs/2010.11929\n",
        "\n",
        "![](https://raw.githubusercontent.com/emla2805/vision-transformer/master/vit.png)"
      ]
    },
    {
      "cell_type": "markdown",
      "metadata": {
        "id": "13aEq94P7Igv"
      },
      "source": [
        "## Initial Setup"
      ]
    },
    {
      "cell_type": "code",
      "metadata": {
        "colab": {
          "base_uri": "https://localhost:8080/"
        },
        "id": "TEbAc-KEzc2V",
        "outputId": "4f7c59ea-3743-40af-b3cc-abff1109d26b"
      },
      "source": [
        "!nvidia-smi"
      ],
      "execution_count": 1,
      "outputs": [
        {
          "output_type": "stream",
          "text": [
            "Thu Mar 18 20:05:18 2021       \n",
            "+-----------------------------------------------------------------------------+\n",
            "| NVIDIA-SMI 460.56       Driver Version: 460.32.03    CUDA Version: 11.2     |\n",
            "|-------------------------------+----------------------+----------------------+\n",
            "| GPU  Name        Persistence-M| Bus-Id        Disp.A | Volatile Uncorr. ECC |\n",
            "| Fan  Temp  Perf  Pwr:Usage/Cap|         Memory-Usage | GPU-Util  Compute M. |\n",
            "|                               |                      |               MIG M. |\n",
            "|===============================+======================+======================|\n",
            "|   0  Tesla K80           Off  | 00000000:00:04.0 Off |                    0 |\n",
            "| N/A   37C    P8    27W / 149W |      0MiB / 11441MiB |      0%      Default |\n",
            "|                               |                      |                  N/A |\n",
            "+-------------------------------+----------------------+----------------------+\n",
            "                                                                               \n",
            "+-----------------------------------------------------------------------------+\n",
            "| Processes:                                                                  |\n",
            "|  GPU   GI   CI        PID   Type   Process name                  GPU Memory |\n",
            "|        ID   ID                                                   Usage      |\n",
            "|=============================================================================|\n",
            "|  No running processes found                                                 |\n",
            "+-----------------------------------------------------------------------------+\n"
          ],
          "name": "stdout"
        }
      ]
    },
    {
      "cell_type": "markdown",
      "metadata": {
        "id": "oGwO4GMm8QDD"
      },
      "source": [
        "### Installing Tensorflow-Addons"
      ]
    },
    {
      "cell_type": "code",
      "metadata": {
        "colab": {
          "base_uri": "https://localhost:8080/"
        },
        "id": "rRkUpR4M8PkR",
        "outputId": "b37600b2-000c-4352-de9d-51b5dd8afe44"
      },
      "source": [
        "!pip install -U tensorflow-addons"
      ],
      "execution_count": 2,
      "outputs": [
        {
          "output_type": "stream",
          "text": [
            "Collecting tensorflow-addons\n",
            "\u001b[?25l  Downloading https://files.pythonhosted.org/packages/74/e3/56d2fe76f0bb7c88ed9b2a6a557e25e83e252aec08f13de34369cd850a0b/tensorflow_addons-0.12.1-cp37-cp37m-manylinux2010_x86_64.whl (703kB)\n",
            "\r\u001b[K     |▌                               | 10kB 11.6MB/s eta 0:00:01\r\u001b[K     |█                               | 20kB 16.6MB/s eta 0:00:01\r\u001b[K     |█▍                              | 30kB 15.7MB/s eta 0:00:01\r\u001b[K     |█▉                              | 40kB 14.1MB/s eta 0:00:01\r\u001b[K     |██▎                             | 51kB 9.3MB/s eta 0:00:01\r\u001b[K     |██▉                             | 61kB 10.7MB/s eta 0:00:01\r\u001b[K     |███▎                            | 71kB 10.3MB/s eta 0:00:01\r\u001b[K     |███▊                            | 81kB 10.0MB/s eta 0:00:01\r\u001b[K     |████▏                           | 92kB 10.1MB/s eta 0:00:01\r\u001b[K     |████▋                           | 102kB 9.9MB/s eta 0:00:01\r\u001b[K     |█████▏                          | 112kB 9.9MB/s eta 0:00:01\r\u001b[K     |█████▋                          | 122kB 9.9MB/s eta 0:00:01\r\u001b[K     |██████                          | 133kB 9.9MB/s eta 0:00:01\r\u001b[K     |██████▌                         | 143kB 9.9MB/s eta 0:00:01\r\u001b[K     |███████                         | 153kB 9.9MB/s eta 0:00:01\r\u001b[K     |███████▌                        | 163kB 9.9MB/s eta 0:00:01\r\u001b[K     |████████                        | 174kB 9.9MB/s eta 0:00:01\r\u001b[K     |████████▍                       | 184kB 9.9MB/s eta 0:00:01\r\u001b[K     |████████▉                       | 194kB 9.9MB/s eta 0:00:01\r\u001b[K     |█████████▎                      | 204kB 9.9MB/s eta 0:00:01\r\u001b[K     |█████████▉                      | 215kB 9.9MB/s eta 0:00:01\r\u001b[K     |██████████▎                     | 225kB 9.9MB/s eta 0:00:01\r\u001b[K     |██████████▊                     | 235kB 9.9MB/s eta 0:00:01\r\u001b[K     |███████████▏                    | 245kB 9.9MB/s eta 0:00:01\r\u001b[K     |███████████▋                    | 256kB 9.9MB/s eta 0:00:01\r\u001b[K     |████████████▏                   | 266kB 9.9MB/s eta 0:00:01\r\u001b[K     |████████████▋                   | 276kB 9.9MB/s eta 0:00:01\r\u001b[K     |█████████████                   | 286kB 9.9MB/s eta 0:00:01\r\u001b[K     |█████████████▌                  | 296kB 9.9MB/s eta 0:00:01\r\u001b[K     |██████████████                  | 307kB 9.9MB/s eta 0:00:01\r\u001b[K     |██████████████▍                 | 317kB 9.9MB/s eta 0:00:01\r\u001b[K     |███████████████                 | 327kB 9.9MB/s eta 0:00:01\r\u001b[K     |███████████████▍                | 337kB 9.9MB/s eta 0:00:01\r\u001b[K     |███████████████▉                | 348kB 9.9MB/s eta 0:00:01\r\u001b[K     |████████████████▎               | 358kB 9.9MB/s eta 0:00:01\r\u001b[K     |████████████████▊               | 368kB 9.9MB/s eta 0:00:01\r\u001b[K     |█████████████████▎              | 378kB 9.9MB/s eta 0:00:01\r\u001b[K     |█████████████████▊              | 389kB 9.9MB/s eta 0:00:01\r\u001b[K     |██████████████████▏             | 399kB 9.9MB/s eta 0:00:01\r\u001b[K     |██████████████████▋             | 409kB 9.9MB/s eta 0:00:01\r\u001b[K     |███████████████████             | 419kB 9.9MB/s eta 0:00:01\r\u001b[K     |███████████████████▋            | 430kB 9.9MB/s eta 0:00:01\r\u001b[K     |████████████████████            | 440kB 9.9MB/s eta 0:00:01\r\u001b[K     |████████████████████▌           | 450kB 9.9MB/s eta 0:00:01\r\u001b[K     |█████████████████████           | 460kB 9.9MB/s eta 0:00:01\r\u001b[K     |█████████████████████▍          | 471kB 9.9MB/s eta 0:00:01\r\u001b[K     |██████████████████████          | 481kB 9.9MB/s eta 0:00:01\r\u001b[K     |██████████████████████▍         | 491kB 9.9MB/s eta 0:00:01\r\u001b[K     |██████████████████████▉         | 501kB 9.9MB/s eta 0:00:01\r\u001b[K     |███████████████████████▎        | 512kB 9.9MB/s eta 0:00:01\r\u001b[K     |███████████████████████▊        | 522kB 9.9MB/s eta 0:00:01\r\u001b[K     |████████████████████████▎       | 532kB 9.9MB/s eta 0:00:01\r\u001b[K     |████████████████████████▊       | 542kB 9.9MB/s eta 0:00:01\r\u001b[K     |█████████████████████████▏      | 552kB 9.9MB/s eta 0:00:01\r\u001b[K     |█████████████████████████▋      | 563kB 9.9MB/s eta 0:00:01\r\u001b[K     |██████████████████████████      | 573kB 9.9MB/s eta 0:00:01\r\u001b[K     |██████████████████████████▋     | 583kB 9.9MB/s eta 0:00:01\r\u001b[K     |███████████████████████████     | 593kB 9.9MB/s eta 0:00:01\r\u001b[K     |███████████████████████████▌    | 604kB 9.9MB/s eta 0:00:01\r\u001b[K     |████████████████████████████    | 614kB 9.9MB/s eta 0:00:01\r\u001b[K     |████████████████████████████▍   | 624kB 9.9MB/s eta 0:00:01\r\u001b[K     |████████████████████████████▉   | 634kB 9.9MB/s eta 0:00:01\r\u001b[K     |█████████████████████████████▍  | 645kB 9.9MB/s eta 0:00:01\r\u001b[K     |█████████████████████████████▉  | 655kB 9.9MB/s eta 0:00:01\r\u001b[K     |██████████████████████████████▎ | 665kB 9.9MB/s eta 0:00:01\r\u001b[K     |██████████████████████████████▊ | 675kB 9.9MB/s eta 0:00:01\r\u001b[K     |███████████████████████████████▏| 686kB 9.9MB/s eta 0:00:01\r\u001b[K     |███████████████████████████████▊| 696kB 9.9MB/s eta 0:00:01\r\u001b[K     |████████████████████████████████| 706kB 9.9MB/s \n",
            "\u001b[?25hRequirement already satisfied, skipping upgrade: typeguard>=2.7 in /usr/local/lib/python3.7/dist-packages (from tensorflow-addons) (2.7.1)\n",
            "Installing collected packages: tensorflow-addons\n",
            "Successfully installed tensorflow-addons-0.12.1\n"
          ],
          "name": "stdout"
        }
      ]
    },
    {
      "cell_type": "markdown",
      "metadata": {
        "id": "NeA6Utfh8XH2"
      },
      "source": [
        "## Importing TensorFlow"
      ]
    },
    {
      "cell_type": "code",
      "metadata": {
        "colab": {
          "base_uri": "https://localhost:8080/"
        },
        "id": "bdm_h0Zl8VPl",
        "outputId": "fe1c0bf4-fd21-4efb-d29b-e8c4ba65d819"
      },
      "source": [
        "import tensorflow as tf\n",
        "tf.random.set_seed(42)\n",
        "print(tf.__version__)"
      ],
      "execution_count": 3,
      "outputs": [
        {
          "output_type": "stream",
          "text": [
            "2.4.1\n"
          ],
          "name": "stdout"
        }
      ]
    },
    {
      "cell_type": "markdown",
      "metadata": {
        "id": "2MQ5k4fL8if6"
      },
      "source": [
        "## Importing necessary modules"
      ]
    },
    {
      "cell_type": "code",
      "metadata": {
        "id": "My28XKTn8lTo"
      },
      "source": [
        "from tensorflow import keras\n",
        "from tensorflow.keras import layers\n",
        "import tensorflow_addons as tfa\n",
        "\n",
        "import numpy as np\n",
        "np.random.seed(42)"
      ],
      "execution_count": 4,
      "outputs": []
    },
    {
      "cell_type": "markdown",
      "metadata": {
        "id": "N3XUO1388vlx"
      },
      "source": [
        "## Data Gathering"
      ]
    },
    {
      "cell_type": "code",
      "metadata": {
        "colab": {
          "base_uri": "https://localhost:8080/"
        },
        "id": "rOPsSUZ28iCE",
        "outputId": "a57ddc46-01a7-43f0-e0e7-8bdeea2a97a2"
      },
      "source": [
        "num_classes = 100\n",
        "input_shape = (32, 32, 3)\n",
        "\n",
        "(x_train, y_train), (x_test, y_test) = keras.datasets.cifar100.load_data()\n",
        "\n",
        "print(f\"x_train shape: {x_train.shape} - y_train shape: {y_train.shape}\")\n",
        "print(f\"x_test shape: {x_test.shape} - y_test shape: {y_test.shape}\")"
      ],
      "execution_count": 5,
      "outputs": [
        {
          "output_type": "stream",
          "text": [
            "Downloading data from https://www.cs.toronto.edu/~kriz/cifar-100-python.tar.gz\n",
            "169009152/169001437 [==============================] - 6s 0us/step\n",
            "x_train shape: (50000, 32, 32, 3) - y_train shape: (50000, 1)\n",
            "x_test shape: (10000, 32, 32, 3) - y_test shape: (10000, 1)\n"
          ],
          "name": "stdout"
        }
      ]
    },
    {
      "cell_type": "markdown",
      "metadata": {
        "id": "wMqnc9Dl82Nz"
      },
      "source": [
        "## Configuring the Hyperparameters"
      ]
    },
    {
      "cell_type": "code",
      "metadata": {
        "id": "LnnfvLlA80Kf"
      },
      "source": [
        "learning_rate = 0.001\n",
        "weight_decay = 0.0001\n",
        "batch_size = 256\n",
        "num_epochs = 100\n",
        "image_size = 72  # Final Image Size\n",
        "patch_size = 6  # Patch Dimension\n",
        "num_patches = (image_size // patch_size) ** 2\n",
        "projection_dim = 64\n",
        "num_heads = 4\n",
        "transformer_units = [\n",
        "    projection_dim * 2,\n",
        "    projection_dim,\n",
        "]  # Size of the transformer layers\n",
        "transformer_layers = 8\n",
        "mlp_head_units = [2048, 1024]  # Size of the dense layers "
      ],
      "execution_count": 6,
      "outputs": []
    },
    {
      "cell_type": "markdown",
      "metadata": {
        "id": "EJIaJjlh9Jhy"
      },
      "source": [
        "## Data Augmentation"
      ]
    },
    {
      "cell_type": "code",
      "metadata": {
        "id": "0U6oa46f9HKK"
      },
      "source": [
        "data_augmentation = keras.Sequential(\n",
        "    [\n",
        "        layers.experimental.preprocessing.Normalization(),\n",
        "        layers.experimental.preprocessing.Resizing(image_size, image_size),\n",
        "        layers.experimental.preprocessing.RandomFlip(\"horizontal\"),\n",
        "        layers.experimental.preprocessing.RandomRotation(factor=0.02),\n",
        "        layers.experimental.preprocessing.RandomZoom(\n",
        "            height_factor=0.2, width_factor=0.2\n",
        "        ),\n",
        "    ],\n",
        "    name=\"data_augmentation\",\n",
        ")\n",
        "# Compute the mean and the variance of the training data for normalization.\n",
        "data_augmentation.layers[0].adapt(x_train)"
      ],
      "execution_count": 7,
      "outputs": []
    },
    {
      "cell_type": "markdown",
      "metadata": {
        "id": "pMCyXCzY9M48"
      },
      "source": [
        "## Implementing Multilayer Perceptron"
      ]
    },
    {
      "cell_type": "code",
      "metadata": {
        "id": "m6r8GTq_9LK5"
      },
      "source": [
        "def multilayer_perceptron(x, hidden_units, dropout_rate):\n",
        "    for units in hidden_units:\n",
        "        x = layers.Dense(units, activation=tf.nn.gelu)(x)\n",
        "        x = layers.Dropout(dropout_rate)(x)\n",
        "    return x"
      ],
      "execution_count": 8,
      "outputs": []
    },
    {
      "cell_type": "markdown",
      "metadata": {
        "id": "j_-hGWES9YGO"
      },
      "source": [
        "## Implementing patch creation as a layer"
      ]
    },
    {
      "cell_type": "code",
      "metadata": {
        "id": "oU_I7d_N9WdM"
      },
      "source": [
        "class Patches(layers.Layer):\n",
        "    def __init__(self, patch_size):\n",
        "        super(Patches, self).__init__()\n",
        "        self.patch_size = patch_size\n",
        "\n",
        "    def call(self, images):\n",
        "        batch_size = tf.shape(images)[0]\n",
        "        patches = tf.image.extract_patches(\n",
        "            images=images,\n",
        "            sizes=[1, self.patch_size, self.patch_size, 1],\n",
        "            strides=[1, self.patch_size, self.patch_size, 1],\n",
        "            rates=[1, 1, 1, 1],\n",
        "            padding=\"VALID\",\n",
        "        )\n",
        "        patch_dims = patches.shape[-1]\n",
        "        patches = tf.reshape(patches, [batch_size, -1, patch_dims])\n",
        "        return patches"
      ],
      "execution_count": 9,
      "outputs": []
    },
    {
      "cell_type": "markdown",
      "metadata": {
        "id": "NGdjUZ6W-ilK"
      },
      "source": [
        "* **Let's display patches for a sample image**"
      ]
    },
    {
      "cell_type": "code",
      "metadata": {
        "colab": {
          "base_uri": "https://localhost:8080/",
          "height": 547
        },
        "id": "LAW4DoPl9bu9",
        "outputId": "4edc7633-f04b-4f29-b536-1eaeb8ec3cf2"
      },
      "source": [
        "import matplotlib.pyplot as plt\n",
        "\n",
        "plt.figure(figsize=(4, 4))\n",
        "image = x_train[np.random.choice(range(x_train.shape[0]))]\n",
        "plt.imshow(image.astype(\"uint8\"))\n",
        "plt.axis(\"off\")\n",
        "\n",
        "resized_image = tf.image.resize(\n",
        "    tf.convert_to_tensor([image]), size=(image_size, image_size)\n",
        ")\n",
        "patches = Patches(patch_size)(resized_image)\n",
        "print(f\"Image size: {image_size} X {image_size}\")\n",
        "print(f\"Patch size: {patch_size} X {patch_size}\")\n",
        "print(f\"Patches per image: {patches.shape[1]}\")\n",
        "print(f\"Elements per patch: {patches.shape[-1]}\")\n",
        "\n",
        "n = int(np.sqrt(patches.shape[1]))\n",
        "plt.figure(figsize=(4, 4))\n",
        "for i, patch in enumerate(patches[0]):\n",
        "    ax = plt.subplot(n, n, i + 1)\n",
        "    patch_img = tf.reshape(patch, (patch_size, patch_size, 3))\n",
        "    plt.imshow(patch_img.numpy().astype(\"uint8\"))\n",
        "    plt.axis(\"off\")"
      ],
      "execution_count": 10,
      "outputs": [
        {
          "output_type": "stream",
          "text": [
            "Image size: 72 X 72\n",
            "Patch size: 6 X 6\n",
            "Patches per image: 144\n",
            "Elements per patch: 108\n"
          ],
          "name": "stdout"
        },
        {
          "output_type": "display_data",
          "data": {
            "image/png": "[encoded data removed]",
            "text/plain": [
              "<Figure size 288x288 with 1 Axes>"
            ]
          },
          "metadata": {
            "tags": [],
            "needs_background": "light"
          }
        },
        {
          "output_type": "display_data",
          "data": {
            "image/png": "[encoded data removed]",
            "text/plain": [
              "<Figure size 288x288 with 144 Axes>"
            ]
          },
          "metadata": {
            "tags": [],
            "needs_background": "light"
          }
        }
      ]
    },
    {
      "cell_type": "markdown",
      "metadata": {
        "id": "j0EvaGQJ-oDg"
      },
      "source": [
        "## Implement the Patch Encoding Layer"
      ]
    },
    {
      "cell_type": "code",
      "metadata": {
        "id": "BH3qjppS9dtR"
      },
      "source": [
        "class PatchEncoder(layers.Layer):\n",
        "    def __init__(self, num_patches, projection_dim):\n",
        "        super(PatchEncoder, self).__init__()\n",
        "        self.num_patches = num_patches\n",
        "        self.projection = layers.Dense(units=projection_dim)\n",
        "        self.position_embedding = layers.Embedding(\n",
        "            input_dim=num_patches, output_dim=projection_dim\n",
        "        )\n",
        "\n",
        "    def call(self, patch):\n",
        "        positions = tf.range(start=0, limit=self.num_patches, delta=1)\n",
        "        encoded = self.projection(patch) + self.position_embedding(positions)\n",
        "        return encoded"
      ],
      "execution_count": 12,
      "outputs": []
    },
    {
      "cell_type": "markdown",
      "metadata": {
        "id": "V7NGMXDf-sxp"
      },
      "source": [
        "## Build the ViT model"
      ]
    },
    {
      "cell_type": "code",
      "metadata": {
        "id": "LO08CKaj9mdz"
      },
      "source": [
        "def create_vit_classifier():\n",
        "    inputs = layers.Input(shape=input_shape)\n",
        "\n",
        "    augmented = data_augmentation(inputs)\n",
        "\n",
        "    patches = Patches(patch_size)(augmented)\n",
        "\n",
        "    encoded_patches = PatchEncoder(num_patches, projection_dim)(patches)\n",
        "\n",
        "\n",
        "    for _ in range(transformer_layers):\n",
        "\n",
        "        x1 = layers.LayerNormalization(epsilon=1e-6)(encoded_patches)\n",
        "   \n",
        "        attention_output = layers.MultiHeadAttention(\n",
        "            num_heads=num_heads, key_dim=projection_dim, dropout=0.1\n",
        "        )(x1, x1)\n",
        "     \n",
        "        x2 = layers.Add()([attention_output, encoded_patches])\n",
        "   \n",
        "        x3 = layers.LayerNormalization(epsilon=1e-6)(x2)\n",
        "       \n",
        "        x3 = multilayer_perceptron(x3, hidden_units=transformer_units, dropout_rate=0.1)\n",
        "      \n",
        "        encoded_patches = layers.Add()([x3, x2])\n",
        "\n",
        "    representation = layers.LayerNormalization(epsilon=1e-6)(encoded_patches)\n",
        "    representation = layers.Flatten()(representation)\n",
        "    representation = layers.Dropout(0.5)(representation)\n",
        "\n",
        "    features = multilayer_perceptron(representation, hidden_units=mlp_head_units, dropout_rate=0.5)\n",
        "\n",
        "    logits = layers.Dense(num_classes)(features)\n",
        "\n",
        "    model = keras.Model(inputs=inputs, outputs=logits)\n",
        "    return model"
      ],
      "execution_count": 16,
      "outputs": []
    },
    {
      "cell_type": "markdown",
      "metadata": {
        "id": "_C0JTf84-vJX"
      },
      "source": [
        "## Compile, Train, and Evaluate the model"
      ]
    },
    {
      "cell_type": "code",
      "metadata": {
        "id": "yamDfegW918P"
      },
      "source": [
        "def run_experiment(model):\n",
        "    optimizer = tfa.optimizers.AdamW(\n",
        "        learning_rate=learning_rate, weight_decay=weight_decay\n",
        "    )\n",
        "\n",
        "    model.compile(\n",
        "        optimizer=optimizer,\n",
        "        loss=keras.losses.SparseCategoricalCrossentropy(from_logits=True),\n",
        "        metrics=[\n",
        "            keras.metrics.SparseCategoricalAccuracy(name=\"accuracy\"),\n",
        "            keras.metrics.SparseTopKCategoricalAccuracy(5, name=\"top-5-accuracy\"),\n",
        "        ],\n",
        "    )\n",
        "\n",
        "    checkpoint_filepath = \"/tmp/checkpoint\"\n",
        "    checkpoint_callback = keras.callbacks.ModelCheckpoint(\n",
        "        checkpoint_filepath,\n",
        "        monitor=\"val_accuracy\",\n",
        "        save_best_only=True,\n",
        "        save_weights_only=True,\n",
        "    )\n",
        "\n",
        "    history = model.fit(\n",
        "        x=x_train,\n",
        "        y=y_train,\n",
        "        batch_size=batch_size,\n",
        "        epochs=num_epochs,\n",
        "        validation_split=0.1,\n",
        "        callbacks=[checkpoint_callback],\n",
        "    )\n",
        "\n",
        "    model.load_weights(checkpoint_filepath)\n",
        "    _, accuracy, top_5_accuracy = model.evaluate(x_test, y_test)\n",
        "    print(f\"Test accuracy: {round(accuracy * 100, 2)}%\")\n",
        "    print(f\"Test top 5 accuracy: {round(top_5_accuracy * 100, 2)}%\")\n",
        "\n",
        "    return history"
      ],
      "execution_count": 14,
      "outputs": []
    },
    {
      "cell_type": "code",
      "metadata": {
        "colab": {
          "base_uri": "https://localhost:8080/"
        },
        "id": "lXedFRc497Ym",
        "outputId": "4c1845aa-9976-4a58-fdc8-6d5df5fca3dd"
      },
      "source": [
        "vit_classifier = create_vit_classifier()\n",
        "history = run_experiment(vit_classifier)"
      ],
      "execution_count": null,
      "outputs": [
        {
          "output_type": "stream",
          "text": [
            "Epoch 1/100\n",
            "176/176 [==============================] - 162s 842ms/step - loss: 4.8907 - accuracy: 0.0287 - top-5-accuracy: 0.1099 - val_loss: 3.9915 - val_accuracy: 0.1030 - val_top-5-accuracy: 0.2990\n",
            "Epoch 2/100\n",
            "176/176 [==============================] - 146s 831ms/step - loss: 4.0400 - accuracy: 0.0803 - top-5-accuracy: 0.2603 - val_loss: 3.6008 - val_accuracy: 0.1524 - val_top-5-accuracy: 0.3908\n",
            "Epoch 3/100\n",
            "176/176 [==============================] - 146s 832ms/step - loss: 3.7572 - accuracy: 0.1221 - top-5-accuracy: 0.3465 - val_loss: 3.3329 - val_accuracy: 0.1936 - val_top-5-accuracy: 0.4674\n",
            "Epoch 4/100\n",
            "176/176 [==============================] - 146s 831ms/step - loss: 3.5725 - accuracy: 0.1511 - top-5-accuracy: 0.4045 - val_loss: 3.2384 - val_accuracy: 0.2264 - val_top-5-accuracy: 0.5056\n",
            "Epoch 5/100\n",
            "167/176 [===========================>..] - ETA: 7s - loss: 3.4278 - accuracy: 0.1722 - top-5-accuracy: 0.4447"
          ],
          "name": "stdout"
        }
      ]
    }
  ]
}